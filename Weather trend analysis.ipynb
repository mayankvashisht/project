{
 "cells": [
  {
   "cell_type": "code",
   "execution_count": 1,
   "metadata": {},
   "outputs": [],
   "source": [
    "import numpy\n",
    "import pandas\n",
    "import matplotlib.pyplot as plt"
   ]
  },
  {
   "cell_type": "code",
   "execution_count": 2,
   "metadata": {},
   "outputs": [],
   "source": [
    "fdata = pandas.read_csv(\"results.csv\")"
   ]
  },
  {
   "cell_type": "code",
   "execution_count": 3,
   "metadata": {},
   "outputs": [
    {
     "data": {
      "text/html": [
       "<div>\n",
       "<style scoped>\n",
       "    .dataframe tbody tr th:only-of-type {\n",
       "        vertical-align: middle;\n",
       "    }\n",
       "\n",
       "    .dataframe tbody tr th {\n",
       "        vertical-align: top;\n",
       "    }\n",
       "\n",
       "    .dataframe thead th {\n",
       "        text-align: right;\n",
       "    }\n",
       "</style>\n",
       "<table border=\"1\" class=\"dataframe\">\n",
       "  <thead>\n",
       "    <tr style=\"text-align: right;\">\n",
       "      <th></th>\n",
       "      <th>year</th>\n",
       "      <th>delhi avg temp</th>\n",
       "      <th>global avg temp</th>\n",
       "    </tr>\n",
       "  </thead>\n",
       "  <tbody>\n",
       "    <tr>\n",
       "      <th>0</th>\n",
       "      <td>1796.0</td>\n",
       "      <td>25.03</td>\n",
       "      <td>8.72</td>\n",
       "    </tr>\n",
       "    <tr>\n",
       "      <th>1</th>\n",
       "      <td>1797.0</td>\n",
       "      <td>26.71</td>\n",
       "      <td>7.98</td>\n",
       "    </tr>\n",
       "    <tr>\n",
       "      <th>2</th>\n",
       "      <td>1798.0</td>\n",
       "      <td>24.29</td>\n",
       "      <td>5.78</td>\n",
       "    </tr>\n",
       "    <tr>\n",
       "      <th>3</th>\n",
       "      <td>1799.0</td>\n",
       "      <td>25.28</td>\n",
       "      <td>8.39</td>\n",
       "    </tr>\n",
       "    <tr>\n",
       "      <th>4</th>\n",
       "      <td>1800.0</td>\n",
       "      <td>25.21</td>\n",
       "      <td>8.47</td>\n",
       "    </tr>\n",
       "  </tbody>\n",
       "</table>\n",
       "</div>"
      ],
      "text/plain": [
       "     year   delhi avg temp  global avg temp\n",
       "0  1796.0            25.03             8.72\n",
       "1  1797.0            26.71             7.98\n",
       "2  1798.0            24.29             5.78\n",
       "3  1799.0            25.28             8.39\n",
       "4  1800.0            25.21             8.47"
      ]
     },
     "execution_count": 3,
     "metadata": {},
     "output_type": "execute_result"
    }
   ],
   "source": [
    "fdata.head()"
   ]
  },
  {
   "cell_type": "code",
   "execution_count": 4,
   "metadata": {},
   "outputs": [
    {
     "data": {
      "text/html": [
       "<div>\n",
       "<style scoped>\n",
       "    .dataframe tbody tr th:only-of-type {\n",
       "        vertical-align: middle;\n",
       "    }\n",
       "\n",
       "    .dataframe tbody tr th {\n",
       "        vertical-align: top;\n",
       "    }\n",
       "\n",
       "    .dataframe thead th {\n",
       "        text-align: right;\n",
       "    }\n",
       "</style>\n",
       "<table border=\"1\" class=\"dataframe\">\n",
       "  <thead>\n",
       "    <tr style=\"text-align: right;\">\n",
       "      <th></th>\n",
       "      <th>year</th>\n",
       "      <th>delhi avg temp</th>\n",
       "      <th>global avg temp</th>\n",
       "    </tr>\n",
       "  </thead>\n",
       "  <tbody>\n",
       "    <tr>\n",
       "      <th>0</th>\n",
       "      <td>1796.0</td>\n",
       "      <td>25.03</td>\n",
       "      <td>8.72</td>\n",
       "    </tr>\n",
       "    <tr>\n",
       "      <th>1</th>\n",
       "      <td>1797.0</td>\n",
       "      <td>26.71</td>\n",
       "      <td>7.98</td>\n",
       "    </tr>\n",
       "    <tr>\n",
       "      <th>2</th>\n",
       "      <td>1798.0</td>\n",
       "      <td>24.29</td>\n",
       "      <td>5.78</td>\n",
       "    </tr>\n",
       "    <tr>\n",
       "      <th>3</th>\n",
       "      <td>1799.0</td>\n",
       "      <td>25.28</td>\n",
       "      <td>8.39</td>\n",
       "    </tr>\n",
       "    <tr>\n",
       "      <th>4</th>\n",
       "      <td>1800.0</td>\n",
       "      <td>25.21</td>\n",
       "      <td>8.47</td>\n",
       "    </tr>\n",
       "    <tr>\n",
       "      <th>...</th>\n",
       "      <td>...</td>\n",
       "      <td>...</td>\n",
       "      <td>...</td>\n",
       "    </tr>\n",
       "    <tr>\n",
       "      <th>213</th>\n",
       "      <td>2009.0</td>\n",
       "      <td>26.55</td>\n",
       "      <td>8.86</td>\n",
       "    </tr>\n",
       "    <tr>\n",
       "      <th>214</th>\n",
       "      <td>2010.0</td>\n",
       "      <td>26.52</td>\n",
       "      <td>8.41</td>\n",
       "    </tr>\n",
       "    <tr>\n",
       "      <th>215</th>\n",
       "      <td>2011.0</td>\n",
       "      <td>25.63</td>\n",
       "      <td>8.53</td>\n",
       "    </tr>\n",
       "    <tr>\n",
       "      <th>216</th>\n",
       "      <td>2012.0</td>\n",
       "      <td>25.89</td>\n",
       "      <td>8.60</td>\n",
       "    </tr>\n",
       "    <tr>\n",
       "      <th>217</th>\n",
       "      <td>2013.0</td>\n",
       "      <td>26.71</td>\n",
       "      <td>8.70</td>\n",
       "    </tr>\n",
       "  </tbody>\n",
       "</table>\n",
       "<p>201 rows × 3 columns</p>\n",
       "</div>"
      ],
      "text/plain": [
       "       year   delhi avg temp  global avg temp\n",
       "0    1796.0            25.03             8.72\n",
       "1    1797.0            26.71             7.98\n",
       "2    1798.0            24.29             5.78\n",
       "3    1799.0            25.28             8.39\n",
       "4    1800.0            25.21             8.47\n",
       "..      ...              ...              ...\n",
       "213  2009.0            26.55             8.86\n",
       "214  2010.0            26.52             8.41\n",
       "215  2011.0            25.63             8.53\n",
       "216  2012.0            25.89             8.60\n",
       "217  2013.0            26.71             8.70\n",
       "\n",
       "[201 rows x 3 columns]"
      ]
     },
     "execution_count": 4,
     "metadata": {},
     "output_type": "execute_result"
    }
   ],
   "source": [
    "fdata.dropna()"
   ]
  },
  {
   "cell_type": "code",
   "execution_count": 5,
   "metadata": {},
   "outputs": [],
   "source": [
    "fdata[\"delhi's moving average\"]= fdata.loc[:,\" delhi avg temp\"].rolling(window=10).mean()"
   ]
  },
  {
   "cell_type": "code",
   "execution_count": 6,
   "metadata": {},
   "outputs": [],
   "source": [
    "fdata[\"global moving average\"]= fdata.loc[:,\"global avg temp\"].rolling(window=10).mean()"
   ]
  },
  {
   "cell_type": "code",
   "execution_count": 8,
   "metadata": {},
   "outputs": [
    {
     "data": {
      "text/plain": [
       "[<matplotlib.lines.Line2D at 0x1acc286a4c0>]"
      ]
     },
     "execution_count": 8,
     "metadata": {},
     "output_type": "execute_result"
    },
    {
     "data": {
      "image/png": "[encoded data removed]",
      "text/plain": [
       "<Figure size 432x288 with 1 Axes>"
      ]
     },
     "metadata": {
      "needs_background": "light"
     },
     "output_type": "display_data"
    }
   ],
   "source": [
    "plt.plot(fdata[\"year\"],fdata[\"delhi's moving average\"])"
   ]
  },
  {
   "cell_type": "code",
   "execution_count": 9,
   "metadata": {},
   "outputs": [
    {
     "data": {
      "text/html": [
       "<div>\n",
       "<style scoped>\n",
       "    .dataframe tbody tr th:only-of-type {\n",
       "        vertical-align: middle;\n",
       "    }\n",
       "\n",
       "    .dataframe tbody tr th {\n",
       "        vertical-align: top;\n",
       "    }\n",
       "\n",
       "    .dataframe thead th {\n",
       "        text-align: right;\n",
       "    }\n",
       "</style>\n",
       "<table border=\"1\" class=\"dataframe\">\n",
       "  <thead>\n",
       "    <tr style=\"text-align: right;\">\n",
       "      <th></th>\n",
       "      <th>year</th>\n",
       "      <th>delhi avg temp</th>\n",
       "      <th>global avg temp</th>\n",
       "      <th>delhi's moving average</th>\n",
       "      <th>global moving average</th>\n",
       "    </tr>\n",
       "  </thead>\n",
       "  <tbody>\n",
       "    <tr>\n",
       "      <th>9</th>\n",
       "      <td>1805.0</td>\n",
       "      <td>25.30</td>\n",
       "      <td>7.99</td>\n",
       "      <td>25.273</td>\n",
       "      <td>8.030</td>\n",
       "    </tr>\n",
       "    <tr>\n",
       "      <th>10</th>\n",
       "      <td>1806.0</td>\n",
       "      <td>25.22</td>\n",
       "      <td>7.19</td>\n",
       "      <td>25.292</td>\n",
       "      <td>7.877</td>\n",
       "    </tr>\n",
       "    <tr>\n",
       "      <th>11</th>\n",
       "      <td>1807.0</td>\n",
       "      <td>24.97</td>\n",
       "      <td>8.77</td>\n",
       "      <td>25.118</td>\n",
       "      <td>7.956</td>\n",
       "    </tr>\n",
       "    <tr>\n",
       "      <th>26</th>\n",
       "      <td>1822.0</td>\n",
       "      <td>24.93</td>\n",
       "      <td>8.30</td>\n",
       "      <td>24.209</td>\n",
       "      <td>8.089</td>\n",
       "    </tr>\n",
       "    <tr>\n",
       "      <th>27</th>\n",
       "      <td>1823.0</td>\n",
       "      <td>24.63</td>\n",
       "      <td>8.26</td>\n",
       "      <td>24.216</td>\n",
       "      <td>8.093</td>\n",
       "    </tr>\n",
       "    <tr>\n",
       "      <th>...</th>\n",
       "      <td>...</td>\n",
       "      <td>...</td>\n",
       "      <td>...</td>\n",
       "      <td>...</td>\n",
       "      <td>...</td>\n",
       "    </tr>\n",
       "    <tr>\n",
       "      <th>213</th>\n",
       "      <td>2009.0</td>\n",
       "      <td>26.55</td>\n",
       "      <td>8.86</td>\n",
       "      <td>26.097</td>\n",
       "      <td>8.669</td>\n",
       "    </tr>\n",
       "    <tr>\n",
       "      <th>214</th>\n",
       "      <td>2010.0</td>\n",
       "      <td>26.52</td>\n",
       "      <td>8.41</td>\n",
       "      <td>26.144</td>\n",
       "      <td>8.654</td>\n",
       "    </tr>\n",
       "    <tr>\n",
       "      <th>215</th>\n",
       "      <td>2011.0</td>\n",
       "      <td>25.63</td>\n",
       "      <td>8.53</td>\n",
       "      <td>26.121</td>\n",
       "      <td>8.644</td>\n",
       "    </tr>\n",
       "    <tr>\n",
       "      <th>216</th>\n",
       "      <td>2012.0</td>\n",
       "      <td>25.89</td>\n",
       "      <td>8.60</td>\n",
       "      <td>26.047</td>\n",
       "      <td>8.676</td>\n",
       "    </tr>\n",
       "    <tr>\n",
       "      <th>217</th>\n",
       "      <td>2013.0</td>\n",
       "      <td>26.71</td>\n",
       "      <td>8.70</td>\n",
       "      <td>26.146</td>\n",
       "      <td>8.673</td>\n",
       "    </tr>\n",
       "  </tbody>\n",
       "</table>\n",
       "<p>174 rows × 5 columns</p>\n",
       "</div>"
      ],
      "text/plain": [
       "       year   delhi avg temp  global avg temp  delhi's moving average  \\\n",
       "9    1805.0            25.30             7.99                  25.273   \n",
       "10   1806.0            25.22             7.19                  25.292   \n",
       "11   1807.0            24.97             8.77                  25.118   \n",
       "26   1822.0            24.93             8.30                  24.209   \n",
       "27   1823.0            24.63             8.26                  24.216   \n",
       "..      ...              ...              ...                     ...   \n",
       "213  2009.0            26.55             8.86                  26.097   \n",
       "214  2010.0            26.52             8.41                  26.144   \n",
       "215  2011.0            25.63             8.53                  26.121   \n",
       "216  2012.0            25.89             8.60                  26.047   \n",
       "217  2013.0            26.71             8.70                  26.146   \n",
       "\n",
       "     global moving average  \n",
       "9                    8.030  \n",
       "10                   7.877  \n",
       "11                   7.956  \n",
       "26                   8.089  \n",
       "27                   8.093  \n",
       "..                     ...  \n",
       "213                  8.669  \n",
       "214                  8.654  \n",
       "215                  8.644  \n",
       "216                  8.676  \n",
       "217                  8.673  \n",
       "\n",
       "[174 rows x 5 columns]"
      ]
     },
     "execution_count": 9,
     "metadata": {},
     "output_type": "execute_result"
    }
   ],
   "source": [
    "fdata.dropna()"
   ]
  },
  {
   "cell_type": "code",
   "execution_count": 11,
   "metadata": {},
   "outputs": [
    {
     "data": {
      "text/plain": [
       "[<matplotlib.lines.Line2D at 0x1acc29ae7c0>]"
      ]
     },
     "execution_count": 11,
     "metadata": {},
     "output_type": "execute_result"
    },
    {
     "data": {
      "image/png": "[encoded data removed]",
      "text/plain": [
       "<Figure size 432x288 with 1 Axes>"
      ]
     },
     "metadata": {
      "needs_background": "light"
     },
     "output_type": "display_data"
    }
   ],
   "source": [
    "plt.plot(fdata[\"year\"],fdata[\"delhi's moving average\"])"
   ]
  },
  {
   "cell_type": "code",
   "execution_count": 12,
   "metadata": {},
   "outputs": [
    {
     "data": {
      "text/plain": [
       "[<matplotlib.lines.Line2D at 0x1acc2a0b460>]"
      ]
     },
     "execution_count": 12,
     "metadata": {},
     "output_type": "execute_result"
    },
    {
     "data": {
      "image/png": "[encoded data removed]",
      "text/plain": [
       "<Figure size 432x288 with 1 Axes>"
      ]
     },
     "metadata": {
      "needs_background": "light"
     },
     "output_type": "display_data"
    }
   ],
   "source": [
    "plt.plot(fdata[\"year\"],fdata[\"global moving average\"])"
   ]
  },
  {
   "cell_type": "code",
   "execution_count": 13,
   "metadata": {},
   "outputs": [
    {
     "data": {
      "image/png": "[encoded data removed]",
      "text/plain": [
       "<Figure size 432x288 with 1 Axes>"
      ]
     },
     "metadata": {
      "needs_background": "light"
     },
     "output_type": "display_data"
    }
   ],
   "source": [
    "plt.plot(fdata[\"year\"],fdata[\"delhi's moving average\"],label = \"delhi's moving average\")\n",
    "plt.xlabel(\"YEARS\")\n",
    "plt.ylabel(\"TEMPERATURE (degree celcius)\")\n",
    "plt.plot(fdata[\"year\"],fdata[\"global moving average\"], label = \"global moving average\")\n",
    "plt.title(\"Temperature Trend Comparison - Delhi vs. global\")\n",
    "plt.legend()\n",
    "plt.show()"
   ]
  }
 ],
 "metadata": {
  "kernelspec": {
   "display_name": "Python 3",
   "language": "python",
   "name": "python3"
  },
  "language_info": {
   "codemirror_mode": {
    "name": "ipython",
    "version": 3
   },
   "file_extension": ".py",
   "mimetype": "text/x-python",
   "name": "python",
   "nbconvert_exporter": "python",
   "pygments_lexer": "ipython3",
   "version": "3.8.5"
  }
 },
 "nbformat": 4,
 "nbformat_minor": 4
}
